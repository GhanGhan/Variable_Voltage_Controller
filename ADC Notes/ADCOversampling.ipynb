{
 "cells": [
  {
   "cell_type": "markdown",
   "id": "6e105c31",
   "metadata": {},
   "source": [
    "# How to use ADC Oversampling techniques to improve signal-to-noise ratio on STM32 MCUs"
   ]
  },
  {
   "cell_type": "markdown",
   "id": "51fdeddc",
   "metadata": {},
   "source": [
    "# Intro\n",
    "- in some cases where a higher accuracy is required, oversampling and decimating the input signal can be implemented without using an external ADC solution\n"
   ]
  },
  {
   "cell_type": "markdown",
   "id": "1e053a3d",
   "metadata": {},
   "source": [
    "## Oversampling to improve quality of Signal\n",
    "- sample the anlaog input signal at higher rates than the Nyquist frequency limit, filter the samples, and reduce te sample rate by decimation"
   ]
  },
  {
   "cell_type": "markdown",
   "id": "38f6cf7f",
   "metadata": {},
   "source": [
    "https://controllerstech.com/stm32-adc-9-adc-oversampling/"
   ]
  },
  {
   "cell_type": "markdown",
   "id": "5e283ede",
   "metadata": {},
   "source": []
  }
 ],
 "metadata": {
  "language_info": {
   "name": "python"
  }
 },
 "nbformat": 4,
 "nbformat_minor": 5
}
