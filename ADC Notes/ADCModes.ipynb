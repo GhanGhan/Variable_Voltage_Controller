{
 "cells": [
  {
   "cell_type": "markdown",
   "id": "1491519a",
   "metadata": {},
   "source": [
    "# Application Note: AN3116 - STM32's ADC modes and their applications"
   ]
  },
  {
   "cell_type": "markdown",
   "id": "92acb9f5",
   "metadata": {},
   "source": [
    "## Single Channel Conversion Mode\n",
    "- ADC performs the single conversion  (single sample) of a single channel x and stops after completion of the conversion\n",
    "- Use case: measure the voltage level of 1 sensor\n",
    "\n",
    "## Multichannel (Scan) Single Conversion Mode\n",
    "- convert some channels successively\n",
    "- use mode to configure sequence of up to n channels successively with different sampling times and in different orders\n",
    "- Use case: take a single voltage level measurements of multiple signals\n",
    "\n",
    "## Single Channel Continuous Conversion Mode\n",
    "- converts a single channel continously and indefinitely\n",
    "- allows ADC to work in background, the ADC converts the channel continously without any intervention from the CPU\n",
    "- also, DMA can be used in circular mode, thus reducing the CPU load\n",
    "- Use case: when you wanto to regularly measure the voltage level of 1 sensor \n",
    "\n",
    "## Multichannel (Scan) Continuous Conversion Mode\n",
    "- used to convert some channels successivley in a sequence of your choosing \n",
    "- automatically restarts the conversion sequence from the first channel and continues indefinitely"
   ]
  },
  {
   "cell_type": "markdown",
   "id": "8385b1b9",
   "metadata": {},
   "source": [
    "https://deepbluembedded.com/stm32-adc-tutorial-complete-guide-with-examples/"
   ]
  },
  {
   "cell_type": "markdown",
   "id": "f4995fb9",
   "metadata": {},
   "source": []
  }
 ],
 "metadata": {
  "language_info": {
   "name": "python"
  }
 },
 "nbformat": 4,
 "nbformat_minor": 5
}
