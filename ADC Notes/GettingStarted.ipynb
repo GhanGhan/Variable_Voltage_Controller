{
 "cells": [
  {
   "cell_type": "markdown",
   "id": "083b29da",
   "metadata": {},
   "source": [
    "Link: https://wiki.stmicroelectronics.cn/stm32mcu/wiki/Getting_started_with_ADC"
   ]
  },
  {
   "cell_type": "markdown",
   "id": "75ccb7f3",
   "metadata": {},
   "source": [
    "# What an ADC is\n",
    "- allows micrcontroller to accept an analog value and covert it to the digital domain\n",
    "## Conversion Modes\n",
    "- **Single Mode:** converts only one channel, in a single shot or continuous mode\n",
    "- **Scan Mode:** converts a complete set of pre-defined programmed input channels, in single shot or continous mode\n",
    "- **Discontonuous mode:** converts only a single channel at each trigger signal from the list of pre-defined programmed input channels"
   ]
  },
  {
   "cell_type": "markdown",
   "id": "43891dc9",
   "metadata": {},
   "source": []
  }
 ],
 "metadata": {
  "language_info": {
   "name": "python"
  }
 },
 "nbformat": 4,
 "nbformat_minor": 5
}
